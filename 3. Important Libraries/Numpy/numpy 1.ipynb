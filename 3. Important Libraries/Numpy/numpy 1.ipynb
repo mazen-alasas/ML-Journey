{
 "cells": [
  {
   "cell_type": "code",
   "execution_count": 1,
   "metadata": {},
   "outputs": [],
   "source": [
    "import numpy as np"
   ]
  },
  {
   "cell_type": "code",
   "execution_count": 2,
   "metadata": {},
   "outputs": [
    {
     "name": "stdout",
     "output_type": "stream",
     "text": [
      "-0.9880316240928618\n",
      "0.49999999999999994\n",
      "0.49999999999999994\n",
      "0.49999999999999994\n"
     ]
    }
   ],
   "source": [
    "import math\n",
    "a = np.sin(30)\n",
    "b = np.sin(30 * np.pi / 180)\n",
    "# or use math.radians() from math library\n",
    "c = np.sin(math.radians(30))\n",
    "# or use deg2rad() from numpy library\n",
    "d = np.sin(np.deg2rad(30))\n",
    "\n",
    "print(a)\n",
    "print(b)\n",
    "print(c)\n",
    "print(d)"
   ]
  },
  {
   "cell_type": "code",
   "execution_count": 3,
   "metadata": {},
   "outputs": [
    {
     "name": "stdout",
     "output_type": "stream",
     "text": [
      "5.0\n",
      "4.62\n",
      "4.6191\n",
      "4.619\n"
     ]
    }
   ],
   "source": [
    "a = np.round(4.609661)\n",
    "b = np.round(4.619661, 2)  # look at 3rd digit (9) \n",
    "c = np.round(4.619061, 4)  # look at 5th digit (6) greater than 4\n",
    "d = np.round(4.619041, 4)  # look at 5th digit (4) less than 5\n",
    "\n",
    "print(a)\n",
    "print(b)\n",
    "print(c)\n",
    "print(d)"
   ]
  },
  {
   "cell_type": "code",
   "execution_count": 4,
   "metadata": {},
   "outputs": [
    {
     "name": "stdout",
     "output_type": "stream",
     "text": [
      "4.0\n",
      "5.0\n"
     ]
    }
   ],
   "source": [
    "a = np.floor(4.609661)\n",
    "b = np.ceil (4.619661)\n",
    "\n",
    "print(a)\n",
    "print(b) "
   ]
  },
  {
   "cell_type": "code",
   "execution_count": 5,
   "metadata": {},
   "outputs": [
    {
     "name": "stdout",
     "output_type": "stream",
     "text": [
      "1\n",
      "-2\n",
      "2\n",
      "-1\n"
     ]
    }
   ],
   "source": [
    "a = np.mod(10, 3)\n",
    "b = np.mod(10, -3)\n",
    "c = np.mod(-10, 3)\n",
    "d = np.mod(-10, -3)\n",
    "\n",
    "print(a)\n",
    "print(b)\n",
    "print(c)\n",
    "print(d)"
   ]
  },
  {
   "cell_type": "code",
   "execution_count": 6,
   "metadata": {},
   "outputs": [
    {
     "name": "stdout",
     "output_type": "stream",
     "text": [
      "8\n",
      "-8\n"
     ]
    }
   ],
   "source": [
    "a = np.power(2, 3)\n",
    "b = np.power(-2, 3)\n",
    "\n",
    "# c = np.power(2, -3)   not allowed\n",
    "# d = np.power(-2, -3)  not allowed\n",
    "\n",
    "print(a)\n",
    "print(b)"
   ]
  },
  {
   "cell_type": "code",
   "execution_count": 7,
   "metadata": {},
   "outputs": [
    {
     "data": {
      "text/plain": [
       "array([ 1,  2,  3,  4,  5,  6,  7,  8,  9, 10])"
      ]
     },
     "execution_count": 7,
     "metadata": {},
     "output_type": "execute_result"
    }
   ],
   "source": [
    "lst = [1, 2, 3, 4, 5, 6, 7, 8, 9, 10]\n",
    "a = np.array(lst)\n",
    "\n",
    "a"
   ]
  },
  {
   "cell_type": "code",
   "execution_count": 8,
   "metadata": {},
   "outputs": [
    {
     "name": "stdout",
     "output_type": "stream",
     "text": [
      "[1, 2, 3, 4, 5, 6, 7, 8, 9, 10]\n",
      "[ 1  2  3  4  5  6  7  8  9 10]\n"
     ]
    }
   ],
   "source": [
    "lst = [1, 2, 3, 4, 5, 6, 7, 8, 9, 10]\n",
    "a = np.array(lst)\n",
    "\n",
    "print(lst)\n",
    "print(a)"
   ]
  },
  {
   "cell_type": "code",
   "execution_count": 9,
   "metadata": {},
   "outputs": [
    {
     "name": "stdout",
     "output_type": "stream",
     "text": [
      "[[1, 2], [3, 4], [5, 6]]\n",
      "[[1 2]\n",
      " [3 4]\n",
      " [5 6]]\n"
     ]
    }
   ],
   "source": [
    "multi_lst = [[1, 2], [3, 4], [5, 6]]\n",
    "a = np.array(multi_lst)\n",
    "\n",
    "print(multi_lst)\n",
    "print(a)"
   ]
  },
  {
   "cell_type": "code",
   "execution_count": 10,
   "metadata": {},
   "outputs": [
    {
     "name": "stdout",
     "output_type": "stream",
     "text": [
      "[[6.23042070e-307 4.67296746e-307]\n",
      " [1.69121096e-306 2.31420855e-306]\n",
      " [1.89146896e-307 7.56571288e-307]]\n"
     ]
    }
   ],
   "source": [
    "empty_lst = np.empty((3, 2))\n",
    "print(empty_lst)"
   ]
  },
  {
   "cell_type": "code",
   "execution_count": 11,
   "metadata": {},
   "outputs": [
    {
     "name": "stdout",
     "output_type": "stream",
     "text": [
      "[[0. 0.]\n",
      " [0. 0.]\n",
      " [0. 0.]]\n",
      "[[0. 0.]\n",
      " [0. 0.]\n",
      " [0. 0.]]\n"
     ]
    }
   ],
   "source": [
    "empty_lst = 0 * empty_lst\n",
    "print(empty_lst)\n",
    "\n",
    "# or\n",
    "\n",
    "zeros_lst = np.zeros((3, 2))\n",
    "print(zeros_lst)"
   ]
  },
  {
   "cell_type": "code",
   "execution_count": 12,
   "metadata": {},
   "outputs": [
    {
     "name": "stdout",
     "output_type": "stream",
     "text": [
      "16.636717568546455\n",
      "[19.82876016  6.74081295 10.95592431  2.92721419  2.21569771]\n",
      "[ 2.21569771  2.92721419  6.74081295 10.95592431 19.82876016]\n"
     ]
    }
   ],
   "source": [
    "a = np.random.uniform(1, 20)              # one real number from 1 to 20\n",
    "b = np.random.uniform(2, 20, 5)           # 5 real numbers from 2 to 20\n",
    "print(a)\n",
    "print(b)\n",
    "sorteda = np.sort(b)\n",
    "print(sorteda)"
   ]
  },
  {
   "cell_type": "code",
   "execution_count": 13,
   "metadata": {},
   "outputs": [
    {
     "name": "stdout",
     "output_type": "stream",
     "text": [
      "[[0.13862423 0.29650473 0.8519964  0.31927586 0.44758083 0.94195145\n",
      "  0.73757394 0.35106661 0.15168012 0.75012629 0.20809339 0.47129378\n",
      "  0.65705705 0.46892129 0.61651308 0.19959153 0.90805679 0.92992259\n",
      "  0.217207   0.144824  ]\n",
      " [0.23578698 0.83434764 0.55651436 0.17270336 0.10928834 0.62247273\n",
      "  0.66764875 0.07437761 0.02229954 0.01473885 0.64494731 0.56433391\n",
      "  0.57252874 0.82501373 0.02259291 0.22285423 0.97333437 0.28154528\n",
      "  0.03425036 0.1870049 ]\n",
      " [0.10650516 0.40057229 0.66101152 0.45416394 0.93466784 0.28306885\n",
      "  0.00131382 0.76598397 0.63830072 0.58814339 0.09027962 0.2118218\n",
      "  0.08729158 0.90352974 0.03061685 0.45940624 0.46373514 0.24685613\n",
      "  0.43874535 0.63643686]]\n"
     ]
    }
   ],
   "source": [
    "a = np.random.random((3, 20))              # 3 rows, 20 columns of real numbers\n",
    "\n",
    "print(a)"
   ]
  },
  {
   "cell_type": "code",
   "execution_count": 14,
   "metadata": {},
   "outputs": [
    {
     "name": "stdout",
     "output_type": "stream",
     "text": [
      "[-2.15668865 -1.31343995  0.27696199 -1.11251512 -0.51072842  1.57949881\n",
      "  1.31677145 -1.15335672 -1.1320502  -1.27940719]\n",
      "[-2.15668865 -1.31343995 -1.27940719 -1.15335672 -1.1320502  -1.11251512\n",
      " -0.51072842  0.27696199  1.31677145  1.57949881]\n"
     ]
    }
   ],
   "source": [
    "a = np.random.normal(0, 1, 10)              # 10 real numbers from 0 to 1\n",
    "print(a)\n",
    "\n",
    "sorteda = np.sort(a)\n",
    "print(sorteda)"
   ]
  },
  {
   "cell_type": "code",
   "execution_count": 15,
   "metadata": {},
   "outputs": [
    {
     "name": "stdout",
     "output_type": "stream",
     "text": [
      "[6 1 8 4 2 8 5 8 5 9]\n",
      "[1 1 1]\n",
      "[2 8 3]\n",
      "[[2 0 1 0]\n",
      " [2 4 4 1]]\n"
     ]
    }
   ],
   "source": [
    "a = np.random.randint(1, 10, 10)              # 10 integer numbers from 1 to 10\n",
    "b = np.random.randint(5, size=3)              # 3 integer numbers from 0 to 5\n",
    "c = np.random.randint(2, 10, size=3)          # 3 integer numbers from 2 to 10 \n",
    "d = np.random.randint(5, size=(2, 4))         # 2 rows, 4 columns of integer numbers from 0 to 5\n",
    "\n",
    "print(a)\n",
    "print(b)\n",
    "print(c)\n",
    "print(d)"
   ]
  },
  {
   "cell_type": "code",
   "execution_count": 16,
   "metadata": {},
   "outputs": [
    {
     "name": "stdout",
     "output_type": "stream",
     "text": [
      "[6 1 9 3 3 8 9 5 6 2 5 3 3 2 7 3 2 6 1 3 9 3 2 8 3]\n",
      "[[6 1 9 3 3]\n",
      " [8 9 5 6 2]\n",
      " [5 3 3 2 7]\n",
      " [3 2 6 1 3]\n",
      " [9 3 2 8 3]]\n",
      "[[6 1 9 3 3]\n",
      " [8 9 5 6 2]\n",
      " [5 3 3 2 7]\n",
      " [3 2 6 1 3]\n",
      " [9 3 2 8 3]]\n"
     ]
    }
   ],
   "source": [
    "a = np.random.randint(1, 10, 25)        # 25 integer numbers from 1 to 10\n",
    "print(a)\n",
    "\n",
    "b = np.reshape(a, (5, 5))               # 5 rows, 5 columns\n",
    "print(b)\n",
    "\n",
    "# or\n",
    "\n",
    "a = a.reshape(5, 5)\n",
    "print(a)"
   ]
  },
  {
   "cell_type": "code",
   "execution_count": 17,
   "metadata": {},
   "outputs": [
    {
     "name": "stdout",
     "output_type": "stream",
     "text": [
      "[0.50454058 0.62796042 0.18423153 0.54022764 0.6472656  0.91942175\n",
      " 0.88697251 0.40304249 0.29933256 0.44766652]\n",
      "[-0.96400594 -0.72856323  2.20322473 -0.56021456  0.02165504 -2.20888255\n",
      " -0.50781909 -0.98536416 -1.18460461  0.8914907 ]\n"
     ]
    }
   ],
   "source": [
    "a = np.random.rand(10)              # 10 real numbers from 0 to 1\n",
    "b = np.random.randn(10)             # 10 real numbers from -1 to 1\n",
    "print(a)\n",
    "print(b)"
   ]
  },
  {
   "cell_type": "code",
   "execution_count": 18,
   "metadata": {},
   "outputs": [
    {
     "name": "stdout",
     "output_type": "stream",
     "text": [
      "[[0.88671848 0.37960085 0.40112191 0.22804195 0.86710253]\n",
      " [0.52614247 0.35518352 0.34163579 0.01452343 0.28612167]]\n"
     ]
    }
   ],
   "source": [
    "a = np.random.rand(2, 5)             # 2 rows, 5 columns of real numbers from 0 to 1\n",
    "\n",
    "print(a)"
   ]
  },
  {
   "cell_type": "code",
   "execution_count": 19,
   "metadata": {},
   "outputs": [
    {
     "name": "stdout",
     "output_type": "stream",
     "text": [
      "[ 4  6  9  8  2 10  1  5  3  7]\n"
     ]
    }
   ],
   "source": [
    "a = np.array([1, 2, 3, 4, 5, 6, 7, 8, 9, 10])\n",
    "np.random.shuffle(a)\n",
    "\n",
    "print(a)"
   ]
  },
  {
   "cell_type": "code",
   "execution_count": 20,
   "metadata": {},
   "outputs": [
    {
     "name": "stdout",
     "output_type": "stream",
     "text": [
      "[0. 0. 0. 0. 0.]\n",
      "[[0. 0. 0.]\n",
      " [0. 0. 0.]]\n",
      "[[[0. 0. 0. 0.]\n",
      "  [0. 0. 0. 0.]\n",
      "  [0. 0. 0. 0.]]\n",
      "\n",
      " [[0. 0. 0. 0.]\n",
      "  [0. 0. 0. 0.]\n",
      "  [0. 0. 0. 0.]]]\n"
     ]
    }
   ],
   "source": [
    "a = np.zeros(5)                       # array of 5 zeros\n",
    "b = np.zeros((2, 3))                  # 2d array (2 rows, 3 columns) of zeros\n",
    "c = np.zeros((2, 3, 4))               # 3d array (2 rows, 3 columns, 4 layers) of zeros\n",
    "print(a)\n",
    "print(b)\n",
    "print(c)"
   ]
  },
  {
   "cell_type": "code",
   "execution_count": 21,
   "metadata": {},
   "outputs": [
    {
     "name": "stdout",
     "output_type": "stream",
     "text": [
      "[1. 1. 1. 1. 1.]\n",
      "[[1. 1. 1.]\n",
      " [1. 1. 1.]]\n"
     ]
    }
   ],
   "source": [
    "a = np.ones(5)                        # array of 5 ones\n",
    "b = np.ones((2, 3))                   # 2d array (2 rows, 3 columns) of ones\n",
    "\n",
    "print(a)\n",
    "print(b)"
   ]
  },
  {
   "cell_type": "code",
   "execution_count": 22,
   "metadata": {},
   "outputs": [
    {
     "name": "stdout",
     "output_type": "stream",
     "text": [
      "[[1. 0. 0. 0. 0.]\n",
      " [0. 1. 0. 0. 0.]\n",
      " [0. 0. 1. 0. 0.]\n",
      " [0. 0. 0. 1. 0.]\n",
      " [0. 0. 0. 0. 1.]]\n",
      "\n",
      "[[1. 0. 0. 0. 0.]\n",
      " [0. 1. 0. 0. 0.]\n",
      " [0. 0. 1. 0. 0.]\n",
      " [0. 0. 0. 1. 0.]\n",
      " [0. 0. 0. 0. 1.]]\n",
      "\n",
      "[[1. 0. 0. 0.]\n",
      " [0. 1. 0. 0.]\n",
      " [0. 0. 1. 0.]]\n"
     ]
    }
   ],
   "source": [
    "a = np.eye(5)                         # 5x5 identity matrix\n",
    "# or\n",
    "b = np.identity(5)                    # 5x5 identity matrix\n",
    "\n",
    "\n",
    "c = np.eye(3, 4)                      # 3x4 identity matrix\n",
    "\n",
    "print(a, end=\"\\n\\n\")\n",
    "print(b, end=\"\\n\\n\")\n",
    "print(c)"
   ]
  },
  {
   "cell_type": "code",
   "execution_count": 23,
   "metadata": {},
   "outputs": [
    {
     "name": "stdout",
     "output_type": "stream",
     "text": [
      "[[1 0 0 0 0]\n",
      " [0 2 0 0 0]\n",
      " [0 0 3 0 0]\n",
      " [0 0 0 4 0]\n",
      " [0 0 0 0 5]]\n",
      "[[0 0 1 0 0 0 0]\n",
      " [0 0 0 2 0 0 0]\n",
      " [0 0 0 0 3 0 0]\n",
      " [0 0 0 0 0 4 0]\n",
      " [0 0 0 0 0 0 5]\n",
      " [0 0 0 0 0 0 0]\n",
      " [0 0 0 0 0 0 0]]\n"
     ]
    }
   ],
   "source": [
    "a = np.diag([1, 2, 3, 4, 5])          # 5x5 diagonal matrix\n",
    "b = np.diag([1, 2, 3, 4, 5], k=2)     # diagonal start from 2\n",
    "\n",
    "print(a)\n",
    "print(b)"
   ]
  },
  {
   "cell_type": "code",
   "execution_count": 24,
   "metadata": {},
   "outputs": [
    {
     "name": "stdout",
     "output_type": "stream",
     "text": [
      "[[5 5 5]\n",
      " [5 5 5]\n",
      " [5 5 5]]\n"
     ]
    }
   ],
   "source": [
    "a = np.full((3, 3), 5)                # 3x3 matrix of 5\n",
    "\n",
    "print(a)"
   ]
  },
  {
   "cell_type": "code",
   "execution_count": 25,
   "metadata": {},
   "outputs": [
    {
     "name": "stdout",
     "output_type": "stream",
     "text": [
      "[0 1 2 3 4 5 6 7 8 9]\n",
      "[1 2 3 4 5 6 7 8 9]\n",
      "[1 3 5 7 9]\n",
      "[10  9  8  7  6  5  4  3  2]\n",
      "[10  7  4]\n"
     ]
    }
   ],
   "source": [
    "a = np.arange(10)                      # 0 to 9\n",
    "b = np.arange(1, 10)                   # 1 to 9\n",
    "c = np.arange(1, 10, 2)                # 1 to 9 with step of 2\n",
    "d = np.arange(10, 1, -1)               # 10 to 2 with step of -1\n",
    "e = np.arange(10, 1, -3)               # 10 to 2 with step of -3\n",
    "\n",
    "print(a)\n",
    "print(b)\n",
    "print(c)\n",
    "print(d)\n",
    "print(e)"
   ]
  },
  {
   "cell_type": "code",
   "execution_count": 26,
   "metadata": {},
   "outputs": [
    {
     "name": "stdout",
     "output_type": "stream",
     "text": [
      "[[0 1 2 3 4]\n",
      " [5 6 7 8 9]]\n",
      "[[[ 0  1]\n",
      "  [ 2  3]]\n",
      "\n",
      " [[ 4  5]\n",
      "  [ 6  7]]\n",
      "\n",
      " [[ 8  9]\n",
      "  [10 11]]]\n"
     ]
    }
   ],
   "source": [
    "a = np.arange(10).reshape(2, 5)       # 2 rows, 5 columns of 0 to 9\n",
    "# b = np.arange(10).reshape(5, 3)     # error (3 * 5 != 10)\n",
    "c = np.arange(12).reshape(3, 2, 2)    # 3d array (3 rows, 2 columns, 2 layers) of 0 to 11\n",
    "# d = np.arange(16).reshape(3, 2, 2)  # error (3 * 2 * 2 != 16)\n",
    "\n",
    "print(a)\n",
    "print(c)"
   ]
  },
  {
   "cell_type": "code",
   "execution_count": 27,
   "metadata": {},
   "outputs": [
    {
     "name": "stdout",
     "output_type": "stream",
     "text": [
      "[ 5.          5.30612245  5.6122449   5.91836735  6.2244898   6.53061224\n",
      "  6.83673469  7.14285714  7.44897959  7.75510204  8.06122449  8.36734694\n",
      "  8.67346939  8.97959184  9.28571429  9.59183673  9.89795918 10.20408163\n",
      " 10.51020408 10.81632653 11.12244898 11.42857143 11.73469388 12.04081633\n",
      " 12.34693878 12.65306122 12.95918367 13.26530612 13.57142857 13.87755102\n",
      " 14.18367347 14.48979592 14.79591837 15.10204082 15.40816327 15.71428571\n",
      " 16.02040816 16.32653061 16.63265306 16.93877551 17.24489796 17.55102041\n",
      " 17.85714286 18.16326531 18.46938776 18.7755102  19.08163265 19.3877551\n",
      " 19.69387755 20.        ]\n",
      "[ 5.          6.66666667  8.33333333 10.         11.66666667 13.33333333\n",
      " 15.         16.66666667 18.33333333 20.        ]\n",
      "[ 5.   6.5  8.   9.5 11.  12.5 14.  15.5 17.  18.5]\n",
      "[ 5.          6.66666667  8.33333333 10.         11.66666667 13.33333333\n",
      " 15.         16.66666667 18.33333333 20.        ]\n"
     ]
    }
   ],
   "source": [
    "a = np.linspace(5, 20)             # 50 numbers from 5 to 20 separated by equal spaces\n",
    "b = np.linspace(5, 20, 10)         # 10 numbers from 5 to 20\n",
    "c = np.linspace(5, 20, 10, endpoint=False)         # 10 numbers from 5 to 20 without the last number(20) and no or one digit after the point\n",
    "d = np.linspace(5, 20, 10, endpoint=True)          # 10 numbers from 5 to 20\n",
    "\n",
    "print(a)\n",
    "print(b)\n",
    "print(c)\n",
    "print(d)"
   ]
  },
  {
   "cell_type": "code",
   "execution_count": 28,
   "metadata": {},
   "outputs": [
    {
     "name": "stdout",
     "output_type": "stream",
     "text": [
      "[ 0.          4.54545455  9.09090909 13.63636364 18.18181818 22.72727273\n",
      " 27.27272727 31.81818182 36.36363636 40.90909091 45.45454545 50.        ]\n",
      "[[[ 0.          4.54545455]\n",
      "  [ 9.09090909 13.63636364]\n",
      "  [18.18181818 22.72727273]]\n",
      "\n",
      " [[27.27272727 31.81818182]\n",
      "  [36.36363636 40.90909091]\n",
      "  [45.45454545 50.        ]]]\n",
      "\n",
      "[[[ 0.          4.54545455]\n",
      "  [ 9.09090909 13.63636364]\n",
      "  [18.18181818 22.72727273]]\n",
      "\n",
      " [[27.27272727 31.81818182]\n",
      "  [36.36363636 40.90909091]\n",
      "  [45.45454545 50.        ]]]\n"
     ]
    }
   ],
   "source": [
    "a = np.linspace(0, 50, 12)          # 12 numbers from 0 to 50\n",
    "b = a.reshape(2, 3, 2)\n",
    "\n",
    "print(a)\n",
    "print(b)\n",
    "\n",
    "# or\n",
    "\n",
    "c = np.linspace(0, 50, 12).reshape(2, 3, 2)\n",
    "print()\n",
    "print(c)"
   ]
  },
  {
   "cell_type": "code",
   "execution_count": 29,
   "metadata": {},
   "outputs": [
    {
     "name": "stdout",
     "output_type": "stream",
     "text": [
      "[[-3 -7  4  8]\n",
      " [10 -8 13 11]\n",
      " [-8  1 -6  6]]\n",
      "12\n",
      "5\n",
      "7\n"
     ]
    }
   ],
   "source": [
    "a = np.random.randint(-9, 15, (3, 4))\n",
    "print(a)\n",
    "\n",
    "greaterThanZero = np.count_nonzero(a)   # count number of elements that are not equal to 0\n",
    "print(greaterThanZero)\n",
    "\n",
    "greaterThanfive = np.count_nonzero(a > 5)   # count number of elements that are greater than 5\n",
    "print(greaterThanfive)\n",
    "\n",
    "lessThanfive = np.count_nonzero(a < 5)   # count number of elements that are less than 5\n",
    "print(lessThanfive)\n"
   ]
  },
  {
   "cell_type": "code",
   "execution_count": 30,
   "metadata": {},
   "outputs": [
    {
     "name": "stdout",
     "output_type": "stream",
     "text": [
      "[[ 4  5 11 -5]\n",
      " [-4  7 -9  0]\n",
      " [ 2  9 13  8]]\n",
      "[0 2 2 1]\n",
      "[1 1 3]\n"
     ]
    }
   ],
   "source": [
    "a = np.random.randint(-9, 15, (3, 4))\n",
    "b = np.count_nonzero(a > 5, axis = 0)   # count number of elements that are greater than 5 in each column\n",
    "c = np.count_nonzero(a > 5, axis = 1)   # count number of elements that are greater than 5 in each row\n",
    "\n",
    "print(a)\n",
    "print(b)\n",
    "print(c)"
   ]
  },
  {
   "cell_type": "code",
   "execution_count": 31,
   "metadata": {},
   "outputs": [
    {
     "name": "stdout",
     "output_type": "stream",
     "text": [
      "[[10 -7 -7 -9]\n",
      " [ 1  6  2  4]\n",
      " [ 8  4 -8 -3]]\n",
      "True\n",
      "[ True  True False False]\n",
      "[ True  True  True]\n"
     ]
    }
   ],
   "source": [
    "a = np.random.randint(-9, 15, (3, 4))\n",
    "b = np.any(a > 5)             # check if any element is greater than 5\n",
    "c = np.any(a > 5, axis = 0)   # check if any element in the column is greater than 5\n",
    "d = np.any(a > 5, axis = 1)   # check if any element in the row is greater than 5\n",
    "\n",
    "print(a)\n",
    "print(b)\n",
    "print(c)\n",
    "print(d)"
   ]
  },
  {
   "cell_type": "code",
   "execution_count": 32,
   "metadata": {},
   "outputs": [
    {
     "name": "stdout",
     "output_type": "stream",
     "text": [
      "[[-3  4  0  6]\n",
      " [12  6 -7 12]\n",
      " [-7  8 10  5]]\n",
      "False\n",
      "[False False False False]\n",
      "[False False False]\n"
     ]
    }
   ],
   "source": [
    "a = np.random.randint(-9, 15, (3, 4))\n",
    "\n",
    "b = np.all(a > 5)             # check if all elements are greater than 5\n",
    "c = np.all(a > 5, axis = 0)   # check if all elements in the column are greater than 5\n",
    "d = np.all(a > 5, axis = 1)   # check if all elements in the row are greater than 5\n",
    "\n",
    "print(a)\n",
    "print(b)\n",
    "print(c)\n",
    "print(d)"
   ]
  },
  {
   "cell_type": "code",
   "execution_count": 33,
   "metadata": {},
   "outputs": [
    {
     "name": "stdout",
     "output_type": "stream",
     "text": [
      "[[-4 11 -1 -4]\n",
      " [13  0 -2 -7]\n",
      " [-4  1 -6  4]]\n",
      "\n",
      "[[False  True False False]\n",
      " [ True False False False]\n",
      " [False False False False]]\n",
      "[11 13]\n",
      "\n",
      "[[ True False  True  True]\n",
      " [False  True  True  True]\n",
      " [ True  True  True  True]]\n",
      "[-4 -1 -4  0 -2 -7 -4  1 -6  4]\n"
     ]
    }
   ],
   "source": [
    "a = np.random.randint(-9, 15, (3, 4))\n",
    "b = a > 5                   # check if elements are greater than 5\n",
    "c = a < 5                   # check if elements are less than 5\n",
    "print(a, end=\"\\n\\n\")\n",
    "\n",
    "print(b)                    # print true if elements are greater than 5 and false otherwise for each element\n",
    "print(a[b], end=\"\\n\\n\")     # print elements that are greater than 5\n",
    "\n",
    "print(c)                    # print true if elements are less than 5 and false otherwise for each element\n",
    "print(a[c])                 # print elements that are less than 5"
   ]
  },
  {
   "cell_type": "code",
   "execution_count": 34,
   "metadata": {},
   "outputs": [
    {
     "name": "stdout",
     "output_type": "stream",
     "text": [
      "[]\n",
      "[-4 11 -1 -4 13  0 -2 -7 -4  1 -6  4]\n",
      "[-4 -1 -4  0 -2 -7 -4  1 -6  4]\n"
     ]
    }
   ],
   "source": [
    "print(a[b & c])              # print elements that are greater than 5 and less than 5 (logicaly its imposible to have less than 5 and greater than 5) but it's useful in ather cases \n",
    "print(a[b | c])              # print elements that are greater than 5 or less than 5 (not equal 5)\n",
    "print(a[~b])                 # print elements that are not greater than 5"
   ]
  },
  {
   "cell_type": "code",
   "execution_count": 35,
   "metadata": {},
   "outputs": [
    {
     "name": "stdout",
     "output_type": "stream",
     "text": [
      "[[ 0  1  2  3]\n",
      " [ 4  5  6  7]\n",
      " [ 8  9 10 11]]\n",
      "\n",
      "[[ 0  2  4  6]\n",
      " [ 8 10 12 14]\n",
      " [16 18 20 22]]\n",
      "\n",
      "[[ True  True  True  True]\n",
      " [ True  True  True  True]\n",
      " [ True  True  True  True]]\n",
      "\n",
      "[[ True False False False]\n",
      " [False False False False]\n",
      " [False False False False]]\n",
      "\n"
     ]
    }
   ],
   "source": [
    "a = np.arange(12).reshape(3, 4)\n",
    "print(a, end=\"\\n\\n\")\n",
    "\n",
    "b = np.arange(12).reshape(3, 4)\n",
    "\n",
    "c = 2 * a\n",
    "print(c, end=\"\\n\\n\")\n",
    "\n",
    "d = np.isclose(a, b)\n",
    "print(d, end=\"\\n\\n\")\n",
    "\n",
    "e = np.isclose(a, c)\n",
    "print(e, end=\"\\n\\n\")"
   ]
  },
  {
   "cell_type": "code",
   "execution_count": 36,
   "metadata": {},
   "outputs": [
    {
     "name": "stdout",
     "output_type": "stream",
     "text": [
      "[[ True  True  True  True]\n",
      " [ True  True  True  True]\n",
      " [ True  True  True  True]]\n",
      "\n",
      "[[ True False False False]\n",
      " [False False False False]\n",
      " [False False False False]]\n",
      "\n",
      "[[ True  True  True  True]\n",
      " [ True  True  True  True]\n",
      " [ True  True  True  True]]\n",
      "\n",
      "[[ True False False False]\n",
      " [False False False False]\n",
      " [False False False False]]\n",
      "\n"
     ]
    }
   ],
   "source": [
    "f = np.isclose(a, b, atol=0.1)      # atol = absolute tolerance\n",
    "print(f, end=\"\\n\\n\")\n",
    "\n",
    "g = np.isclose(a, c, atol=0.1)\n",
    "print(g, end=\"\\n\\n\")\n",
    "\n",
    "h = np.isclose(a, b, rtol=0.1)      # rtol = relative tolerance\n",
    "print(h, end=\"\\n\\n\")\n",
    "\n",
    "i = np.isclose(a, c, rtol=0.1)\n",
    "print(i, end=\"\\n\\n\")"
   ]
  },
  {
   "cell_type": "code",
   "execution_count": 37,
   "metadata": {},
   "outputs": [
    {
     "name": "stdout",
     "output_type": "stream",
     "text": [
      "[ 0. 10. 20. 30. 40. 50. 60. 70. 80. 90.]\n",
      "\n",
      "[ 0. 10. 20. 30. 40. 50. 60. 70. 80. 90.]\n",
      "\n",
      "[ 0. 10. 20. 30. 40. 50. 60. 70. 80. 90.]\n",
      "\n",
      "[ 0. 10. 20. 30. 40. 50. 60. 70. 80. 90.]\n"
     ]
    }
   ],
   "source": [
    "a = np.arange(10)\n",
    "\n",
    "b = np.array([0.] * 10)                # create an array of 10 zeros\n",
    "np.multiply(a, 10, out = b)\n",
    "print(b, end=\"\\n\\n\")\n",
    "# or\n",
    "\n",
    "b = np.zeros(10)\n",
    "np.multiply(a, 10, out = b)\n",
    "print(b, end=\"\\n\\n\")\n",
    "# or\n",
    "\n",
    "b = np.multiply(a, 10.)\n",
    "print(b, end=\"\\n\\n\")\n",
    "# or\n",
    "\n",
    "b = 10. * a\n",
    "print(b)"
   ]
  },
  {
   "cell_type": "code",
   "execution_count": 38,
   "metadata": {},
   "outputs": [
    {
     "name": "stdout",
     "output_type": "stream",
     "text": [
      "[0 1 2 3]\n",
      "[0. 1. 4. 9.]\n"
     ]
    }
   ],
   "source": [
    "x = np.arange(4)\n",
    "y = np.empty(4)\n",
    "\n",
    "np.power(x, 2, out = y)\n",
    "\n",
    "print(x)\n",
    "print(y)"
   ]
  },
  {
   "cell_type": "code",
   "execution_count": 39,
   "metadata": {},
   "outputs": [
    {
     "name": "stdout",
     "output_type": "stream",
     "text": [
      "[1 2 3 4 5 6 7 8 9]\n",
      "45\n",
      "[ 1  3  6 10 15 21 28 36 45]\n",
      "362880\n",
      "[     1      2      6     24    120    720   5040  40320 362880]\n"
     ]
    }
   ],
   "source": [
    "a = np.arange(1, 10)\n",
    "b = np.add.reduce(a)             # sum of all elements\n",
    "c = np.add.accumulate(a)         # cumulative sum of all elements (prefix sum)\n",
    "d = np.multiply.reduce(a)        # product of all elements\n",
    "e = np.multiply.accumulate(a)    # cumulative product of all elements (prefix product)\n",
    "\n",
    "print(a)\n",
    "print(b)                      \n",
    "print(c)\n",
    "print(d)\n",
    "print(e)"
   ]
  },
  {
   "cell_type": "code",
   "execution_count": 40,
   "metadata": {},
   "outputs": [
    {
     "name": "stdout",
     "output_type": "stream",
     "text": [
      "[1 2 3 4 5 6 7 8 9]\n",
      "[2 3 4 5]\n",
      "[[ 2  3  4  5]\n",
      " [ 4  6  8 10]\n",
      " [ 6  9 12 15]\n",
      " [ 8 12 16 20]\n",
      " [10 15 20 25]\n",
      " [12 18 24 30]\n",
      " [14 21 28 35]\n",
      " [16 24 32 40]\n",
      " [18 27 36 45]]\n"
     ]
    }
   ],
   "source": [
    "a = np.arange(1, 10)\n",
    "b = np.arange(2, 6)\n",
    "\n",
    "c = np.multiply.outer(a, b)     # multiply b by each element in a in separate rows\n",
    "\n",
    "print(a)\n",
    "print(b)\n",
    "print(c)"
   ]
  },
  {
   "cell_type": "code",
   "execution_count": 41,
   "metadata": {},
   "outputs": [
    {
     "name": "stdout",
     "output_type": "stream",
     "text": [
      "[1 2 3 4 5 6 7 8 9]\n",
      "[2 3 4 5]\n",
      "[[ 3  4  5  6]\n",
      " [ 4  5  6  7]\n",
      " [ 5  6  7  8]\n",
      " [ 6  7  8  9]\n",
      " [ 7  8  9 10]\n",
      " [ 8  9 10 11]\n",
      " [ 9 10 11 12]\n",
      " [10 11 12 13]\n",
      " [11 12 13 14]]\n"
     ]
    }
   ],
   "source": [
    "a = np.arange(1, 10)\n",
    "b = np.arange(2, 6)\n",
    "\n",
    "c = np.add.outer(a, b)     # add each element in a to b in separate rows\n",
    "\n",
    "print(a)\n",
    "print(b)\n",
    "print(c)"
   ]
  },
  {
   "cell_type": "code",
   "execution_count": 42,
   "metadata": {},
   "outputs": [
    {
     "name": "stdout",
     "output_type": "stream",
     "text": [
      "6\n",
      "[[ 1  2  3  4  5  6  7  8  9]\n",
      " [10 11 12 13 14 15 16 17 18]]\n",
      "2\n",
      "(2, 9)\n",
      "18\n",
      "2\n",
      "int32\n",
      "4\n",
      "72\n"
     ]
    }
   ],
   "source": [
    "a = np.arange(1, 19, 3)\n",
    "print(len(a))                # length of array in one dimension = size\n",
    "\n",
    "b = np.arange(1, 19).reshape(2, 9)\n",
    "print(b)\n",
    "print(len(b))                # number of rows\n",
    "print(b.shape)               # shape of array\n",
    "print(b.size)                # number of elements in array\n",
    "print(b.ndim)                # number of dimensions\n",
    "print(b.dtype)               # data type of array\n",
    "print(b.itemsize)            # size of each element in bytes\n",
    "print(b.nbytes)              # total number of bytes (size * itemsize)"
   ]
  },
  {
   "cell_type": "code",
   "execution_count": 43,
   "metadata": {},
   "outputs": [
    {
     "name": "stdout",
     "output_type": "stream",
     "text": [
      "[[0 1 2]\n",
      " [3 4 5]\n",
      " [6 7 8]]\n",
      "[0 4 8]\n",
      "12\n",
      "[[ 1  2  3  4]\n",
      " [ 5  6  7  8]\n",
      " [ 9 10 11 12]]\n",
      "[ 1  6 11]\n",
      "18\n"
     ]
    }
   ],
   "source": [
    "a = np.arange(9).reshape(3, 3)\n",
    "b = np.trace(a)\n",
    "print(a)\n",
    "print(np.diag(a))             # main diagonal elements\n",
    "print(b)\n",
    "\n",
    "\n",
    "a = np.arange(1, 13)\n",
    "b = a.reshape(3, 4)\n",
    "print(b)\n",
    "print(np.diag(b))\n",
    "c = np.trace(b)              # sum of main diagonal elements\n",
    "print(c)"
   ]
  },
  {
   "cell_type": "code",
   "execution_count": 44,
   "metadata": {},
   "outputs": [
    {
     "name": "stdout",
     "output_type": "stream",
     "text": [
      "0.0\n",
      "(array([ 1.33484692e+01, -1.34846923e+00, -1.26963291e-15]), array([[ 0.16476382,  0.79969966,  0.40824829],\n",
      "       [ 0.50577448,  0.10420579, -0.81649658],\n",
      "       [ 0.84678513, -0.59128809,  0.40824829]]))\n"
     ]
    }
   ],
   "source": [
    "a = np.arange(9).reshape(3, 3)\n",
    "\n",
    "b = np.linalg.det(a)         # determinant\n",
    "print(b)\n",
    "\n",
    "# c = np.linalg.inv(a)         # inverse\n",
    "# print(c)\n",
    "\n",
    "d = np.linalg.eig(a)         # eigenvalues\n",
    "print(d)"
   ]
  },
  {
   "cell_type": "code",
   "execution_count": 45,
   "metadata": {},
   "outputs": [
    {
     "name": "stdout",
     "output_type": "stream",
     "text": [
      "[0 1 2 3 4]\n",
      "[ 5  6  7  8  9 10 11 12 13]\n",
      "[0 1 2 3 4]\n",
      "[5 6 7]\n",
      "[ 8  9 10 11 12 13]\n"
     ]
    }
   ],
   "source": [
    "a = np.arange(14)\n",
    "b, c = np.split(a, [5])             \n",
    "d, e, f = np.split(a, [5, 8])       # split (with array use []) at 5th element and 8th element\n",
    "print(b)\n",
    "print(c)\n",
    "print(d)\n",
    "print(e)\n",
    "print(f)"
   ]
  },
  {
   "cell_type": "code",
   "execution_count": 46,
   "metadata": {},
   "outputs": [
    {
     "name": "stdout",
     "output_type": "stream",
     "text": [
      "[1 2 3 4 5]\n",
      "[6 7 8]\n"
     ]
    }
   ],
   "source": [
    "a = [1, 2, 3, 4, 5, 6, 7, 8, 9, 10]\n",
    "b, c, d = np.split(a, (5, 8))        # split (with list use ()) at 5th and 8th elements\n",
    "\n",
    "print(b)\n",
    "print(c)"
   ]
  },
  {
   "cell_type": "code",
   "execution_count": 47,
   "metadata": {},
   "outputs": [
    {
     "name": "stdout",
     "output_type": "stream",
     "text": [
      "[[0 1 2]\n",
      " [3 4 5]\n",
      " [6 7 8]]\n",
      "[[ 0  1  2]\n",
      " [ 3  4  5]\n",
      " [ 6  7  8]\n",
      " [ 9 10 11]]\n",
      "[[ 0  1  2]\n",
      " [ 3  4  5]\n",
      " [ 6  7  8]\n",
      " [ 0  1  2]\n",
      " [ 3  4  5]\n",
      " [ 6  7  8]\n",
      " [ 9 10 11]]\n"
     ]
    }
   ],
   "source": [
    "a = np.arange(9).reshape(3, 3)\n",
    "b = np.arange(12).reshape(4, 3)\n",
    "c = np.vstack((a, b))               # stack arrays vertically should be same number of columns\n",
    "# d = np.hstack((a, b))               # error: arrays must have same number of rows\n",
    "print(a)\n",
    "print(b)\n",
    "print(c)"
   ]
  },
  {
   "cell_type": "code",
   "execution_count": 48,
   "metadata": {},
   "outputs": [
    {
     "name": "stdout",
     "output_type": "stream",
     "text": [
      "[[0 1 2]\n",
      " [3 4 5]\n",
      " [6 7 8]]\n",
      "[[ 0  1  2  3]\n",
      " [ 4  5  6  7]\n",
      " [ 8  9 10 11]]\n",
      "[[ 0  1  2  0  1  2  3]\n",
      " [ 3  4  5  4  5  6  7]\n",
      " [ 6  7  8  8  9 10 11]]\n"
     ]
    }
   ],
   "source": [
    "a = np.arange(9).reshape(3, 3)\n",
    "b = np.arange(12).reshape(3, 4)\n",
    "c = np.hstack((a, b))               # stack arrays horizontally should be same number of rows\n",
    "# d = np.vstack((a, b))               # error: arrays must have same number of columns\n",
    "\n",
    "print(a)\n",
    "print(b)\n",
    "print(c)"
   ]
  },
  {
   "cell_type": "code",
   "execution_count": 49,
   "metadata": {},
   "outputs": [
    {
     "name": "stdout",
     "output_type": "stream",
     "text": [
      "[[0 1 2]\n",
      " [3 4 5]\n",
      " [6 7 8]]\n",
      "[[0 1 2]\n",
      " [3 4 5]\n",
      " [6 7 8]]\n",
      "[[0 1 2 0 1 2]\n",
      " [3 4 5 3 4 5]\n",
      " [6 7 8 6 7 8]]\n"
     ]
    }
   ],
   "source": [
    "a = np.arange(9).reshape(3, 3)\n",
    "b = np.arange(9).reshape(3, 3)\n",
    "c = np.concatenate([a, b], axis = 1)               # concatenate (a and b should be 2d or 3d), axis = 0)\n",
    "print(a)\n",
    "print(b)\n",
    "print(c)"
   ]
  }
 ],
 "metadata": {
  "kernelspec": {
   "display_name": "base",
   "language": "python",
   "name": "python3"
  },
  "language_info": {
   "codemirror_mode": {
    "name": "ipython",
    "version": 3
   },
   "file_extension": ".py",
   "mimetype": "text/x-python",
   "name": "python",
   "nbconvert_exporter": "python",
   "pygments_lexer": "ipython3",
   "version": "3.11.5"
  }
 },
 "nbformat": 4,
 "nbformat_minor": 2
}
