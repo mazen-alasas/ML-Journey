{
  "nbformat": 4,
  "nbformat_minor": 0,
  "metadata": {
    "colab": {
      "provenance": []
    },
    "kernelspec": {
      "name": "python3",
      "display_name": "Python 3"
    },
    "language_info": {
      "name": "python"
    }
  },
  "cells": [
    {
      "cell_type": "markdown",
      "source": [
        "[here](https://github.com/amueller/advanced_training/blob/master/03.2%20Evaluation%20Metrics.ipynb)"
      ],
      "metadata": {
        "id": "UBmrsWXR_IfF"
      }
    },
    {
      "cell_type": "markdown",
      "source": [
        "# Confusion Matrix\n",
        "<p align=\"center\">\n",
        "    <img src=\"https://benhay.es/img/cont-table-gen.jpg\">\n",
        "</p>"
      ],
      "metadata": {
        "id": "jjMvii2jvit8"
      }
    },
    {
      "cell_type": "markdown",
      "source": [
        "## For : **Classification**"
      ],
      "metadata": {
        "id": "wNHPFgM7wlhx"
      }
    },
    {
      "cell_type": "code",
      "source": [
        "y_true = [0, 1, 0, 1, 1, 0, 1, 0, 1, 0, 0, 1, 1, 1]\n",
        "y_pred = [0, 1, 0, 0, 0, 1, 1, 0, 1, 0, 1, 1, 1, 1]\n",
        "\n",
        "print(len(y_true))"
      ],
      "metadata": {
        "id": "mliysgnazHcg",
        "colab": {
          "base_uri": "https://localhost:8080/"
        },
        "outputId": "72ccc50f-f4ce-446d-95cd-6e0dcf965d10"
      },
      "execution_count": 3,
      "outputs": [
        {
          "output_type": "stream",
          "name": "stdout",
          "text": [
            "14\n",
            "14\n"
          ]
        }
      ]
    },
    {
      "cell_type": "code",
      "source": [
        "from sklearn.metrics import confusion_matrix\n",
        "\n",
        "confusion_matrix(y_true, y_pred)"
      ],
      "metadata": {
        "id": "7owJpVpLzIw6",
        "colab": {
          "base_uri": "https://localhost:8080/"
        },
        "outputId": "7addd613-25bc-45af-82ab-2c13eae06330"
      },
      "execution_count": 4,
      "outputs": [
        {
          "output_type": "execute_result",
          "data": {
            "text/plain": [
              "array([[4, 2],\n",
              "       [2, 6]])"
            ]
          },
          "metadata": {},
          "execution_count": 4
        }
      ]
    },
    {
      "cell_type": "markdown",
      "source": [
        "### Accuracy (ACC)\n",
        "Accuracy is a valid choice of evaluation for classification problems which are well balanced and not skewed or No class imbalance.\n",
        "\n",
        "$$Accuracy = \\frac{num\\_of\\_Correct\\_answers}{num\\_of\\_total\\_answers} = \\frac{TP + TN}{TP + TN + FP + FN}\n",
        "$$\n",
        "\n",
        "Accuracy simply means the percentage of correct observations."
      ],
      "metadata": {
        "id": "bwa6tCZ-wyMg"
      }
    },
    {
      "cell_type": "code",
      "source": [
        "from sklearn.metrics import accuracy_score\n",
        "\n",
        "accuracy_score(y_true, y_pred)"
      ],
      "metadata": {
        "id": "qyVZWVj_xdbD",
        "colab": {
          "base_uri": "https://localhost:8080/"
        },
        "outputId": "5b63dc65-327c-423c-e40b-a337ffa371ac"
      },
      "execution_count": 5,
      "outputs": [
        {
          "output_type": "execute_result",
          "data": {
            "text/plain": [
              "0.7142857142857143"
            ]
          },
          "metadata": {},
          "execution_count": 5
        }
      ]
    },
    {
      "cell_type": "markdown",
      "source": [
        "### Precision or Positive Predictive Value (PPV)\n",
        "Precision is a valid choice of evaluation metric when we want to be very sure of our prediction.\n",
        "\n",
        "For example: If we are building a system to predict if we should decrease the credit limit on a particular account, we want to be very sure about our prediction or it may result in customer dissatisfaction.\n",
        "\n",
        "$$ PPV = \\frac{TP}{TP + FP}$$\n",
        "\n",
        "With increse of FP, PPV will decline. If FP=0, PPV=1"
      ],
      "metadata": {
        "id": "gL7SBWxX1Hbf"
      }
    },
    {
      "cell_type": "code",
      "source": [
        "from sklearn.metrics import precision_score\n",
        "\n",
        "precision_score(y_true, y_pred)"
      ],
      "metadata": {
        "id": "rYZpYl0E0xwZ",
        "colab": {
          "base_uri": "https://localhost:8080/"
        },
        "outputId": "20497de8-5ecb-428e-bdc6-1ce9b1be81fa"
      },
      "execution_count": 6,
      "outputs": [
        {
          "output_type": "execute_result",
          "data": {
            "text/plain": [
              "0.75"
            ]
          },
          "metadata": {},
          "execution_count": 6
        }
      ]
    },
    {
      "cell_type": "markdown",
      "source": [
        "### Recall (Sensitivity) or True Positive Rate (TPR)\n",
        "Recall is a valid choice of evaluation metric when we want to capture as many positives as possible.\n",
        "\n",
        "For example: If we are building a system to predict if a person has cancer or not, we want to capture the disease even if we are not very sure.  \n",
        "\n",
        "\\begin{equation*}\n",
        "TRP = \\frac{TP}{TP + FN}\n",
        "\\end{equation*}\n",
        "\n",
        "With increase of FN, TRP will decline. If FN=0, TRP=1. We don't care about FP."
      ],
      "metadata": {
        "id": "WZe0F-Rx27Wv"
      }
    },
    {
      "cell_type": "code",
      "source": [
        "from sklearn.metrics import recall_score\n",
        "\n",
        "recall_score(y_true, y_pred)"
      ],
      "metadata": {
        "id": "p6Wdx1CZ0xuC",
        "colab": {
          "base_uri": "https://localhost:8080/"
        },
        "outputId": "0932602a-1730-4b57-8deb-ab514b50193a"
      },
      "execution_count": 7,
      "outputs": [
        {
          "output_type": "execute_result",
          "data": {
            "text/plain": [
              "0.75"
            ]
          },
          "metadata": {},
          "execution_count": 7
        }
      ]
    },
    {
      "cell_type": "markdown",
      "source": [
        "### F1 score\n",
        "It’s the harmonic mean between precision and recall.\n",
        "\\begin{equation*}\n",
        "F_1 = 2*\\frac{Precision * Recall}{Precision + Recall}\n",
        "\\end{equation*}"
      ],
      "metadata": {
        "id": "rHR3vBV34rRa"
      }
    },
    {
      "cell_type": "code",
      "source": [
        "from sklearn.metrics import f1_score\n",
        "\n",
        "f1_score(y_true, y_pred)"
      ],
      "metadata": {
        "id": "X1WJab7Q4ssZ",
        "colab": {
          "base_uri": "https://localhost:8080/"
        },
        "outputId": "e851b377-49fa-4281-e59b-36b23427a394"
      },
      "execution_count": 8,
      "outputs": [
        {
          "output_type": "execute_result",
          "data": {
            "text/plain": [
              "0.75"
            ]
          },
          "metadata": {},
          "execution_count": 8
        }
      ]
    },
    {
      "cell_type": "markdown",
      "source": [
        "### F1 score with Beta\n",
        "When choosing beta in your F-beta score the more you care about recall over precision the higher beta you should choose.\n",
        "\\begin{equation*}\n",
        "F_1 = (1+\\beta^2)*\\frac{Precision * Recall}{(\\beta^2*Precision) + Recall}\n",
        "\\end{equation*}"
      ],
      "metadata": {
        "id": "z1Zeik6X3tOK"
      }
    },
    {
      "cell_type": "code",
      "source": [
        "from sklearn.metrics import fbeta_score\n",
        "\n",
        "fbeta_score(y_true, y_pred, beta=0.5)"
      ],
      "metadata": {
        "id": "gBG5uWk8_ew-",
        "colab": {
          "base_uri": "https://localhost:8080/"
        },
        "outputId": "7e6dab62-5a81-494b-fddb-ce1ba0c65d33"
      },
      "execution_count": 9,
      "outputs": [
        {
          "output_type": "execute_result",
          "data": {
            "text/plain": [
              "0.75"
            ]
          },
          "metadata": {},
          "execution_count": 9
        }
      ]
    },
    {
      "cell_type": "markdown",
      "source": [
        "# For : **Regression**"
      ],
      "metadata": {
        "id": "mzGsEmIr6klX"
      }
    },
    {
      "cell_type": "code",
      "source": [
        "y_true = [3, -0.5, 2, 7, 1, 12, 5, 6.5, 9]\n",
        "y_pred = [2.5, 0.0, 2, 8, 0, 11, 4.5, 6, 10]"
      ],
      "metadata": {
        "id": "37BhSKE44xpE"
      },
      "execution_count": 10,
      "outputs": []
    },
    {
      "cell_type": "markdown",
      "source": [
        "### R Squared (Coefficient of Determination)\n",
        "$$R^2 = 1 - \\frac{SSE}{SST}$$\n",
        "\n",
        "- if $R^2$ is closed to $1$: good model\n",
        "- if $R^2$ is closed to $0$: always predicts the average (bad model)\n",
        "- if $R^2$ is closed to $-1$: يبقي تمسح العك دا"
      ],
      "metadata": {
        "id": "Tg3QYK4765SH"
      }
    },
    {
      "cell_type": "code",
      "source": [
        "from sklearn.metrics import r2_score\n",
        "\n",
        "r2_score(y_true, y_pred)"
      ],
      "metadata": {
        "id": "fxDllaEP6szT",
        "colab": {
          "base_uri": "https://localhost:8080/"
        },
        "outputId": "fdbc1e54-1577-4480-8610-3a9c62e7ea3d"
      },
      "execution_count": 11,
      "outputs": [
        {
          "output_type": "execute_result",
          "data": {
            "text/plain": [
              "0.9616858237547893"
            ]
          },
          "metadata": {},
          "execution_count": 11
        }
      ]
    },
    {
      "cell_type": "markdown",
      "source": [
        "### Pearson Correlation Coefficient\n",
        "- if closed to $1$: High positive correlation (good model)\n",
        "- if closed to $0$: Weak correlation (bad model)\n",
        "- if closed to $-1$: يبقي تمسح العك دا\n"
      ],
      "metadata": {
        "id": "ZL7FKwPW8dDN"
      }
    },
    {
      "cell_type": "code",
      "source": [
        "from scipy.stats import pearsonr\n",
        "\n",
        "pearsonr(y_true, y_pred)[0]"
      ],
      "metadata": {
        "id": "1hhkTSNj8YCU",
        "colab": {
          "base_uri": "https://localhost:8080/"
        },
        "outputId": "d93109bd-942a-46b0-c5b7-1ab2cc85810a"
      },
      "execution_count": 12,
      "outputs": [
        {
          "output_type": "execute_result",
          "data": {
            "text/plain": [
              "0.9819209907527717"
            ]
          },
          "metadata": {},
          "execution_count": 12
        }
      ]
    },
    {
      "cell_type": "markdown",
      "source": [
        "# Error Value\n",
        "- Mean Square Error (MSE)\n",
        "- Root Mean Square Error (RMSE)\n",
        "- Mean Absolute Error (MAE)"
      ],
      "metadata": {
        "id": "GB2Ps8Dt-ajX"
      }
    },
    {
      "cell_type": "code",
      "source": [
        "from sklearn.metrics import mean_squared_error\n",
        "from sklearn.metrics import mean_absolute_error\n",
        "\n",
        "mse  = mean_squared_error(y_true, y_pred)\n",
        "rmse = mean_squared_error(y_true, y_pred, squared = False)\n",
        "mae  = mean_absolute_error(y_true, y_pred)"
      ],
      "metadata": {
        "id": "VKW6EhET9jPh"
      },
      "execution_count": 13,
      "outputs": []
    },
    {
      "cell_type": "code",
      "source": [
        "print(f\"MSE  = {mse}\")\n",
        "print(f\"RMSE = {rmse}\")\n",
        "print(f\"MAE  = {mae}\")"
      ],
      "metadata": {
        "id": "GGsoFa80_Lpr",
        "colab": {
          "base_uri": "https://localhost:8080/"
        },
        "outputId": "b6066ace-3a47-456d-dc39-03f1549fcdf0"
      },
      "execution_count": 14,
      "outputs": [
        {
          "output_type": "stream",
          "name": "stdout",
          "text": [
            "MSE  = 0.5555555555555556\n",
            "RMSE = 0.7453559924999299\n",
            "MAE  = 0.6666666666666666\n"
          ]
        }
      ]
    },
    {
      "cell_type": "code",
      "source": [],
      "metadata": {
        "id": "ShMgTiHt_M95"
      },
      "execution_count": null,
      "outputs": []
    }
  ]
}