{
 "cells": [
  {
   "cell_type": "code",
   "execution_count": 1,
   "metadata": {},
   "outputs": [],
   "source": [
    "import numpy as np"
   ]
  },
  {
   "cell_type": "markdown",
   "metadata": {},
   "source": [
    "## Matrix addition & subtraction\n",
    "As long as the dimensions of two matrices are the same, we can add and subtract them much like we add and subtract numbers"
   ]
  },
  {
   "cell_type": "code",
   "execution_count": 2,
   "metadata": {},
   "outputs": [
    {
     "name": "stdout",
     "output_type": "stream",
     "text": [
      "[[ 0  7  6  8]\n",
      " [11  4 10  1]\n",
      " [ 2  6 11  6]]\n",
      "[[7 8 6 4]\n",
      " [6 2 6 1]\n",
      " [9 3 7 3]]\n"
     ]
    }
   ],
   "source": [
    "a = np.random.randint(0, 12, (3, 4))\n",
    "b = np.random.randint(0, 12, (3, 4))\n",
    "\n",
    "print(a)\n",
    "print(b)"
   ]
  },
  {
   "cell_type": "code",
   "execution_count": 3,
   "metadata": {},
   "outputs": [
    {
     "name": "stdout",
     "output_type": "stream",
     "text": [
      "[[ 7 15 12 12]\n",
      " [17  6 16  2]\n",
      " [11  9 18  9]]\n",
      "[[ 7 15 12 12]\n",
      " [17  6 16  2]\n",
      " [11  9 18  9]]\n"
     ]
    }
   ],
   "source": [
    "sum = a + b\n",
    "print(sum, end = \"\\n\")\n",
    "\n",
    "# or\n",
    "\n",
    "sum = np.add(a, b)\n",
    "print(sum)"
   ]
  },
  {
   "cell_type": "code",
   "execution_count": 4,
   "metadata": {},
   "outputs": [
    {
     "name": "stdout",
     "output_type": "stream",
     "text": [
      "[[-7 -1  0  4]\n",
      " [ 5  2  4  0]\n",
      " [-7  3  4  3]]\n",
      "\n",
      "[[-7 -1  0  4]\n",
      " [ 5  2  4  0]\n",
      " [-7  3  4  3]]\n"
     ]
    }
   ],
   "source": [
    "sub = a - b\n",
    "print(sub, end = \"\\n\\n\")\n",
    "\n",
    "# or\n",
    "\n",
    "sub = np.subtract(a, b)\n",
    "print(sub)"
   ]
  },
  {
   "cell_type": "code",
   "execution_count": 5,
   "metadata": {},
   "outputs": [
    {
     "name": "stdout",
     "output_type": "stream",
     "text": [
      "[[ 7  5  7  2]\n",
      " [ 3  5  6  6]\n",
      " [11  8  7  7]]\n",
      "12\n",
      "[[19 17 19 14]\n",
      " [15 17 18 18]\n",
      " [23 20 19 19]]\n"
     ]
    }
   ],
   "source": [
    "a = np.random.randint(0, 12, (3, 4))\n",
    "b = 12\n",
    "\n",
    "print(a)\n",
    "print(b)\n",
    "print(a + b)"
   ]
  },
  {
   "cell_type": "code",
   "execution_count": 6,
   "metadata": {},
   "outputs": [
    {
     "name": "stdout",
     "output_type": "stream",
     "text": [
      "[[10 11 10  4]\n",
      " [10  4 10 11]\n",
      " [ 5  1  2 11]]\n",
      "12\n",
      "[[ -2  -1  -2  -8]\n",
      " [ -2  -8  -2  -1]\n",
      " [ -7 -11 -10  -1]]\n"
     ]
    }
   ],
   "source": [
    "a = np.random.randint(0, 12, (3, 4))\n",
    "b = 12\n",
    "\n",
    "print(a)\n",
    "print(b)\n",
    "print(a - b)"
   ]
  },
  {
   "cell_type": "code",
   "execution_count": 7,
   "metadata": {},
   "outputs": [
    {
     "name": "stdout",
     "output_type": "stream",
     "text": [
      "[[ 4  4  8  2]\n",
      " [ 0  6  6  1]\n",
      " [10 11  9 11]]\n",
      "\n",
      "[[ 3  0 11  6]\n",
      " [ 3  2  3  0]\n",
      " [11  5  9  9]]\n",
      "\n",
      "[[ 12   0  88  12]\n",
      " [  0  12  18   0]\n",
      " [110  55  81  99]]\n",
      "\n",
      "[[ 12   0  88  12]\n",
      " [  0  12  18   0]\n",
      " [110  55  81  99]]\n"
     ]
    }
   ],
   "source": [
    "a = np.random.randint(0, 12, (3, 4))\n",
    "b = np.random.randint(0, 12, (3, 4))\n",
    "print(a, end = \"\\n\\n\")\n",
    "print(b, end = \"\\n\\n\")\n",
    "\n",
    "c = a * b                           # Multiply each element by its corresponding element only\n",
    "print(c, end = \"\\n\\n\")\n",
    "\n",
    "# or\n",
    "\n",
    "c = np.multiply(a, b)\n",
    "print(c)"
   ]
  },
  {
   "cell_type": "code",
   "execution_count": 8,
   "metadata": {},
   "outputs": [
    {
     "name": "stdout",
     "output_type": "stream",
     "text": [
      "[[ 2  4  2 11]\n",
      " [ 6  1 11 10]\n",
      " [ 3  3  5  4]]\n",
      "\n",
      "[[ 6  0  7 11]\n",
      " [ 3  4  8  4]\n",
      " [11  1  5  7]]\n",
      "\n",
      "[[0.33333333        inf 0.28571429 1.        ]\n",
      " [2.         0.25       1.375      2.5       ]\n",
      " [0.27272727 3.         1.         0.57142857]]\n",
      "\n",
      "[[0.33333333        inf 0.28571429 1.        ]\n",
      " [2.         0.25       1.375      2.5       ]\n",
      " [0.27272727 3.         1.         0.57142857]]\n"
     ]
    },
    {
     "name": "stderr",
     "output_type": "stream",
     "text": [
      "C:\\Users\\mazen\\AppData\\Local\\Temp\\ipykernel_3772\\2703180343.py:7: RuntimeWarning: divide by zero encountered in divide\n",
      "  c = a / b\n",
      "C:\\Users\\mazen\\AppData\\Local\\Temp\\ipykernel_3772\\2703180343.py:12: RuntimeWarning: divide by zero encountered in divide\n",
      "  d = np.divide(a, b)\n"
     ]
    }
   ],
   "source": [
    "a = np.random.randint(0, 12, (3, 4))\n",
    "b = np.random.randint(0, 12, (3, 4))\n",
    "\n",
    "print(a, end = \"\\n\\n\")\n",
    "print(b, end = \"\\n\\n\")\n",
    "\n",
    "c = a / b\n",
    "print(c, end = \"\\n\\n\")\n",
    "\n",
    "# or\n",
    "\n",
    "d = np.divide(a, b)\n",
    "\n",
    "print(d)"
   ]
  },
  {
   "cell_type": "markdown",
   "metadata": {},
   "source": [
    "## Maltiply Matrices\n",
    "when Maltiply a matrix by another matrix we need to do the [dot product](https://www.mathsisfun.com/algebra/vectors-dot-product.html) of rows and columns see [Math is FUN](https://www.mathsisfun.com/algebra/matrix-multiplying.html)\n",
    "<p align=\"center\">\n",
    "  <img src=\"multiply.svg\"/>\n",
    "</p>"
   ]
  },
  {
   "cell_type": "code",
   "execution_count": 9,
   "metadata": {},
   "outputs": [
    {
     "name": "stdout",
     "output_type": "stream",
     "text": [
      "[[3 8 9 2]\n",
      " [1 6 1 1]\n",
      " [2 5 2 2]]\n",
      "[[ 3  9  6]\n",
      " [11  1  0]\n",
      " [ 4  9  1]\n",
      " [ 3 11  8]]\n",
      "\n",
      "[[139 138  43]\n",
      " [ 76  35  15]\n",
      " [ 75  63  30]]\n",
      "\n",
      "[[139 138  43]\n",
      " [ 76  35  15]\n",
      " [ 75  63  30]]\n"
     ]
    }
   ],
   "source": [
    "a = np.random.randint(0, 12, (3, 4))\n",
    "b = np.random.randint(0, 12, (4, 3))\n",
    "\n",
    "print(a)\n",
    "print(b, end = \"\\n\\n\")\n",
    "\n",
    "c = a @ b\n",
    "\n",
    "# or\n",
    "\n",
    "d = np.dot(a, b)\n",
    "\n",
    "print(c, end = \"\\n\\n\")\n",
    "print(d)"
   ]
  },
  {
   "cell_type": "code",
   "execution_count": 10,
   "metadata": {},
   "outputs": [
    {
     "name": "stdout",
     "output_type": "stream",
     "text": [
      "[[ 8 11 10 11]\n",
      " [10 11  3  8]\n",
      " [ 0 11 11  4]]\n",
      "98\n",
      "98\n",
      "98\n",
      "[18 33 24 23]\n",
      "[18 33 24 23]\n",
      "[40 32 26]\n",
      "[40 32 26]\n"
     ]
    }
   ],
   "source": [
    "a = np.random.randint(0, 12, (3, 4))\n",
    "b = np.sum(a)                      # sum of all elements using numpy\n",
    "c = a.sum()                        # sum of all elements\n",
    "d = np.sum(a, axis = None)         # sum of all elements\n",
    "e = a.sum(axis = 0)                # sum of each column\n",
    "f = np.sum(a, axis = 0)            # sum of each column\n",
    "g = a.sum(axis = 1)                # sum of each row\n",
    "h = np.sum(a, axis = 1)            # sum of each row\n",
    "\n",
    "print(a)\n",
    "print(b)\n",
    "print(c)\n",
    "print(d)\n",
    "print(e)\n",
    "print(f)\n",
    "print(g)\n",
    "print(h)"
   ]
  },
  {
   "cell_type": "code",
   "execution_count": 11,
   "metadata": {},
   "outputs": [
    {
     "name": "stdout",
     "output_type": "stream",
     "text": [
      "[[ 0 11  3  4]\n",
      " [ 8 11 10  8]\n",
      " [10 11 11 11]]\n",
      "\n",
      "[[ 8 10 11 11]\n",
      " [ 3  8 10 11]\n",
      " [ 0  4 11 11]]\n"
     ]
    }
   ],
   "source": [
    "b = np.sort(a, axis = 0)        # sort each column\n",
    "c = np.sort(a, axis = 1)        # sort each row\n",
    "\n",
    "print(b, end = \"\\n\\n\")\n",
    "print(c)"
   ]
  },
  {
   "cell_type": "code",
   "execution_count": 12,
   "metadata": {},
   "outputs": [
    {
     "name": "stdout",
     "output_type": "stream",
     "text": [
      "[[1 6 7]\n",
      " [8 3 0]\n",
      " [2 0 5]]\n",
      "[[-0.05617978  0.11235955  0.07865169]\n",
      " [ 0.14981273  0.03370787 -0.20973783]\n",
      " [ 0.02247191 -0.04494382  0.16853933]]\n",
      "[[ 1.00000000e+00  0.00000000e+00 -2.77555756e-17]\n",
      " [ 0.00000000e+00  1.00000000e+00  0.00000000e+00]\n",
      " [ 0.00000000e+00  0.00000000e+00  1.00000000e+00]]\n"
     ]
    }
   ],
   "source": [
    "a = np.random.randint(0, 12, (3, 3))\n",
    "b = np.linalg.inv(a)              # inverse of a matrix\n",
    "\n",
    "c = np.dot(a, b)\n",
    "\n",
    "\n",
    "print(a)\n",
    "\n",
    "print(b)\n",
    "\n",
    "print(c)"
   ]
  },
  {
   "cell_type": "code",
   "execution_count": 13,
   "metadata": {},
   "outputs": [
    {
     "name": "stdout",
     "output_type": "stream",
     "text": [
      "5.12470772 - 3.75292284 x\n",
      "-0.04169914263445055\n"
     ]
    }
   ],
   "source": [
    "a = np.array([0, 20, 40, 60, 80, 10, 120, 140, 160, 180])\n",
    "b = np.array([10, 9, 8, 7, 6, 5, 4, 3, 2, 1])\n",
    "\n",
    "x, y = np.polynomial.Polynomial.fit(a, b, 1, full = True)\n",
    "\n",
    "print(x)\n",
    "# print(y)\n",
    "\n",
    "i, j = np.polyfit(a, b, 1)\n",
    "\n",
    "print(i)\n",
    "# print(j)"
   ]
  },
  {
   "cell_type": "code",
   "execution_count": 14,
   "metadata": {},
   "outputs": [
    {
     "name": "stdout",
     "output_type": "stream",
     "text": [
      " \n",
      "5\n",
      " \n",
      "4 x + 8\n",
      "    2\n",
      "77 x + 8 x + 2\n",
      "   3     2\n",
      "7 x + 5 x + 2 x + 15\n"
     ]
    }
   ],
   "source": [
    "a = np.poly1d(5)\n",
    "b = np.poly1d((4, 8))\n",
    "c = np.poly1d((77, 8, 2))\n",
    "d = np.poly1d([7, 5, 2, 15])\n",
    "\n",
    "print(a)\n",
    "print(b)\n",
    "print(c)\n",
    "print(d)"
   ]
  },
  {
   "cell_type": "code",
   "execution_count": 15,
   "metadata": {},
   "outputs": [
    {
     "name": "stdout",
     "output_type": "stream",
     "text": [
      "   3     2\n",
      "7 x + 5 x + 2 x + 15\n",
      "29\n",
      "551\n",
      "15\n"
     ]
    }
   ],
   "source": [
    "a = np.poly1d([7, 5, 2, 15])\n",
    "b = a(1)\n",
    "c = a(4)\n",
    "d = a(0)\n",
    "\n",
    "print(a)\n",
    "print(b)\n",
    "print(c)\n",
    "print(d)"
   ]
  },
  {
   "cell_type": "code",
   "execution_count": 16,
   "metadata": {},
   "outputs": [
    {
     "name": "stdout",
     "output_type": "stream",
     "text": [
      "95\n",
      "15\n"
     ]
    }
   ],
   "source": [
    "a = np.polyval([7, 5, 2, 15], 2)\n",
    "b = np.polyval([7, 5, 2, 15], 0)\n",
    "\n",
    "print(a)\n",
    "print(b)"
   ]
  },
  {
   "cell_type": "code",
   "execution_count": 17,
   "metadata": {},
   "outputs": [
    {
     "name": "stdout",
     "output_type": "stream",
     "text": [
      "   3     2\n",
      "2 x + 3 x + 4 x + 5\n",
      "[-1.37113433+0.j         -0.06443283+1.34876101j -0.06443283-1.34876101j]\n",
      "[-1.37113433+0.j         -0.06443283+1.34876101j -0.06443283-1.34876101j]\n"
     ]
    }
   ],
   "source": [
    "a = np.poly1d([2, 3, 4, 5])\n",
    "b = np.roots(a)\n",
    "# or\n",
    "c = a.roots\n",
    "\n",
    "\n",
    "print(a)\n",
    "print(b)\n",
    "print(c)"
   ]
  },
  {
   "cell_type": "code",
   "execution_count": 18,
   "metadata": {},
   "outputs": [
    {
     "name": "stdout",
     "output_type": "stream",
     "text": [
      "2015-07-31\n",
      "2015-12-31\n"
     ]
    }
   ],
   "source": [
    "a = np.array('2015-07-31', dtype = np.datetime64)\n",
    "b = np.datetime64('2015-12-31')\n",
    "\n",
    "print(a)\n",
    "print(b)"
   ]
  },
  {
   "cell_type": "code",
   "execution_count": 19,
   "metadata": {},
   "outputs": [
    {
     "name": "stdout",
     "output_type": "stream",
     "text": [
      "2015-08-01\n",
      "2016-01-01\n"
     ]
    }
   ],
   "source": [
    "print(a + 1)\n",
    "\n",
    "print(b + 1)"
   ]
  },
  {
   "cell_type": "code",
   "execution_count": 20,
   "metadata": {},
   "outputs": [
    {
     "name": "stdout",
     "output_type": "stream",
     "text": [
      "['2015-07-04' '2015-07-05' '2015-07-06' '2015-07-07' '2015-07-08'\n",
      " '2015-07-09']\n",
      "\n",
      "['2015-07-04' '2015-07-05' '2015-07-06' '2015-07-07' '2015-07-08'\n",
      " '2015-07-09']\n",
      "\n",
      "['2015-07-04' '2015-07-05' '2015-07-06' '2015-07-07' '2015-07-08'\n",
      " '2015-07-09']\n"
     ]
    }
   ],
   "source": [
    "a = np.datetime64('2015-07-04')\n",
    "listofDates_1 = np.arange(a, np.datetime64('2015-07-10'))\n",
    "print(listofDates_1, end = \"\\n\\n\")\n",
    "# or\n",
    "listofDates_2 = np.arange(np.datetime64('2015-07-04'), np.datetime64('2015-07-10'))\n",
    "print(listofDates_2, end = \"\\n\\n\")\n",
    "# or\n",
    "listofDates_3 = a + np.arange(6)\n",
    "print(listofDates_3)"
   ]
  }
 ],
 "metadata": {
  "kernelspec": {
   "display_name": "base",
   "language": "python",
   "name": "python3"
  },
  "language_info": {
   "codemirror_mode": {
    "name": "ipython",
    "version": 3
   },
   "file_extension": ".py",
   "mimetype": "text/x-python",
   "name": "python",
   "nbconvert_exporter": "python",
   "pygments_lexer": "ipython3",
   "version": "3.11.5"
  }
 },
 "nbformat": 4,
 "nbformat_minor": 2
}
