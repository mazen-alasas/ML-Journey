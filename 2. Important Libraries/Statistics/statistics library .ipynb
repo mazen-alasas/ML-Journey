{
 "cells": [
  {
   "cell_type": "code",
   "execution_count": 1,
   "metadata": {},
   "outputs": [],
   "source": [
    "import statistics as st"
   ]
  },
  {
   "cell_type": "code",
   "execution_count": 2,
   "metadata": {},
   "outputs": [],
   "source": [
    "data = [1, 2, 3, 4, 5, 6, 7, 8, 9, 10]"
   ]
  },
  {
   "cell_type": "markdown",
   "metadata": {},
   "source": [
    "# Types of mean\n",
    "<div align=\"center\">\n",
    "    <img src=\"assets\\means.png\">\n",
    "</div>"
   ]
  },
  {
   "cell_type": "markdown",
   "metadata": {},
   "source": [
    "# Arithmetic mean\n",
    "$$\\overline{a}(a_1, a_2\\cdot\\cdot\\cdot a_n)  = \\frac{\\sum_{i = 1}^n a_i}{n} = \\frac{a_1 + a_2 + \\cdot\\cdot\\cdot + a_n}{n}$$"
   ]
  },
  {
   "cell_type": "code",
   "execution_count": 3,
   "metadata": {},
   "outputs": [
    {
     "data": {
      "text/plain": [
       "5.5"
      ]
     },
     "execution_count": 3,
     "metadata": {},
     "output_type": "execute_result"
    }
   ],
   "source": [
    "mean = st.mean(data)\n",
    "mean"
   ]
  },
  {
   "cell_type": "markdown",
   "metadata": {},
   "source": [
    "# Harmonic mean (central location)\n",
    "\n",
    "$$H(a_1, a_2\\cdot\\cdot\\cdot a_n) = \\frac{1}{\\sum_{i = 1}^n \\frac{1}{a_i}} = \\frac{n}{\\frac{1}{a_1} + \\frac{1}{a_2} + \\cdot\\cdot\\cdot + \\frac{1}{a_n}}$$\n"
   ]
  },
  {
   "cell_type": "code",
   "execution_count": 4,
   "metadata": {},
   "outputs": [
    {
     "data": {
      "text/plain": [
       "3.414171521474055"
      ]
     },
     "execution_count": 4,
     "metadata": {},
     "output_type": "execute_result"
    }
   ],
   "source": [
    "harm_mean = st.harmonic_mean(data)\n",
    "harm_mean"
   ]
  },
  {
   "cell_type": "markdown",
   "metadata": {},
   "source": [
    "# Geometric mean\n",
    "$$\\left(\\prod_{i = 1}^{n} a_i \\right)^\\frac{1}{n} = \\sqrt[n]{a_1a_2\\cdot \\cdot \\cdot a_n}$$"
   ]
  },
  {
   "cell_type": "code",
   "execution_count": 5,
   "metadata": {},
   "outputs": [
    {
     "data": {
      "text/plain": [
       "4.528728688116765"
      ]
     },
     "execution_count": 5,
     "metadata": {},
     "output_type": "execute_result"
    }
   ],
   "source": [
    "geo_mean = st.geometric_mean(data)\n",
    "geo_mean"
   ]
  },
  {
   "cell_type": "markdown",
   "metadata": {},
   "source": [
    "# Median\n",
    "The median of a set of data is the middlemost number or centre value in the set, The median is also the number that is halfway into the set.\n",
    "- If the total number is **odd** :\n",
    "$$Median = (\\frac{n+1}{2})^{th}~term$$\n",
    "- If the total number is **even** :\n",
    "$$Median = \\frac{(\\frac{n}{2})^{th}~term+(\\frac{n}{2}+1)^{th}~term}{2}$$"
   ]
  },
  {
   "cell_type": "code",
   "execution_count": 6,
   "metadata": {},
   "outputs": [
    {
     "data": {
      "text/plain": [
       "5.5"
      ]
     },
     "execution_count": 6,
     "metadata": {},
     "output_type": "execute_result"
    }
   ],
   "source": [
    "med = st.median(data)\n",
    "med"
   ]
  },
  {
   "cell_type": "code",
   "execution_count": 7,
   "metadata": {},
   "outputs": [
    {
     "data": {
      "text/plain": [
       "5"
      ]
     },
     "execution_count": 7,
     "metadata": {},
     "output_type": "execute_result"
    }
   ],
   "source": [
    "med_low = st.median_low(data)\n",
    "med_low"
   ]
  },
  {
   "cell_type": "code",
   "execution_count": 8,
   "metadata": {},
   "outputs": [
    {
     "data": {
      "text/plain": [
       "6"
      ]
     },
     "execution_count": 8,
     "metadata": {},
     "output_type": "execute_result"
    }
   ],
   "source": [
    "med_high = st.median_high(data)\n",
    "med_high"
   ]
  },
  {
   "cell_type": "markdown",
   "metadata": {},
   "source": [
    "# Mode (modal value)\n",
    "the value or number in a data set, which has a high frequency or appears more frequently"
   ]
  },
  {
   "cell_type": "code",
   "execution_count": 9,
   "metadata": {},
   "outputs": [
    {
     "data": {
      "text/plain": [
       "4"
      ]
     },
     "execution_count": 9,
     "metadata": {},
     "output_type": "execute_result"
    }
   ],
   "source": [
    "dat1 = [1, 2, 3, 4, 4, 6, 7, 4, 9, 10]\n",
    "moda = st.mode(dat1)\n",
    "moda"
   ]
  },
  {
   "cell_type": "code",
   "execution_count": 10,
   "metadata": {},
   "outputs": [
    {
     "data": {
      "text/plain": [
       "[4, 2]"
      ]
     },
     "execution_count": 10,
     "metadata": {},
     "output_type": "execute_result"
    }
   ],
   "source": [
    "dat2 = [1, 4, 2, 4, 2, 4, 2, 2, 4, 10]\n",
    "moda = st.multimode(dat2)\n",
    "moda"
   ]
  },
  {
   "cell_type": "markdown",
   "metadata": {},
   "source": [
    "# Standard deviation\n",
    "A standard deviation (or σ) is a measure of how dispersed the data is in relation to the mean.\n",
    "\n",
    "$$\\sigma =\\sqrt{\\frac{\\sum_{i=1}^{n}(a_i-\\overline{a})^2}{n-1}}$$"
   ]
  },
  {
   "cell_type": "code",
   "execution_count": 11,
   "metadata": {},
   "outputs": [
    {
     "data": {
      "text/plain": [
       "3.0276503540974917"
      ]
     },
     "execution_count": 11,
     "metadata": {},
     "output_type": "execute_result"
    }
   ],
   "source": [
    "std = st.stdev(data)\n",
    "std"
   ]
  },
  {
   "cell_type": "markdown",
   "metadata": {},
   "source": [
    "# Variance\n",
    "Variance is the expected value of the squared variation of a random variable from its mean value\n",
    "\n",
    "$$\\sigma ^2 =\\frac{\\sum_{i=1}^{n}(a_i-\\overline{a})^2}{n - 1}$$"
   ]
  },
  {
   "cell_type": "code",
   "execution_count": 12,
   "metadata": {},
   "outputs": [
    {
     "data": {
      "text/plain": [
       "9.166666666666666"
      ]
     },
     "execution_count": 12,
     "metadata": {},
     "output_type": "execute_result"
    }
   ],
   "source": [
    "var = st.variance(data)\n",
    "var"
   ]
  }
 ],
 "metadata": {
  "kernelspec": {
   "display_name": "base",
   "language": "python",
   "name": "python3"
  },
  "language_info": {
   "codemirror_mode": {
    "name": "ipython",
    "version": 3
   },
   "file_extension": ".py",
   "mimetype": "text/x-python",
   "name": "python",
   "nbconvert_exporter": "python",
   "pygments_lexer": "ipython3",
   "version": "3.11.5"
  }
 },
 "nbformat": 4,
 "nbformat_minor": 2
}
